{
  "cells": [
    {
      "cell_type": "code",
      "execution_count": null,
      "metadata": {
        "id": "AzEylbXqNdfz"
      },
      "outputs": [],
      "source": [
        "import requests\n",
        "import pandas as pd"
      ]
    },
    {
      "cell_type": "markdown",
      "metadata": {
        "id": "pliYxZnoRg3e"
      },
      "source": [
        "The requests allows you to call APIs  and get data from the web in json format, then pandas helps clean ,analyze and arrange in a tabular format(DataFrame)"
      ]
    },
    {
      "cell_type": "code",
      "execution_count": null,
      "metadata": {
        "id": "5ckslOG-N16o"
      },
      "outputs": [],
      "source": [
        "url= \"https://disease.sh/v3/covid-19/historical/ghana?lastdays=all\"\n",
        "response = requests.get(url)\n",
        "if response.status_code == 200:\n",
        "    data = response.json()\n",
        "else:\n",
        "  print(\"Failed to fetch data, response.status_code\")"
      ]
    },
    {
      "cell_type": "markdown",
      "metadata": {
        "id": "LzcXEjTuejXK"
      },
      "source": [
        "I used requests.get() to fetch the data online using the url ,status_code ==200 to check if the data has been safely fetched then it's further stored in the data variable, remember the status code has to be confirmed to avoid crashing your project, other status code could be 404,401,500, this fetches dat on Ghana"
      ]
    },
    {
      "cell_type": "code",
      "execution_count": null,
      "metadata": {
        "colab": {
          "base_uri": "https://localhost:8080/"
        },
        "id": "bRZ9-2LsO5gV",
        "outputId": "0652f0f7-8cb1-41c1-d846-fc8c306a0385"
      },
      "outputs": [
        {
          "name": "stdout",
          "output_type": "stream",
          "text": [
            "dict_keys(['country', 'province', 'timeline'])\n",
            "dict_keys(['cases', 'deaths', 'recovered'])\n"
          ]
        }
      ],
      "source": [
        "print(data.keys())\n",
        "type(data['timeline'])\n",
        "timeline = data['timeline']\n",
        "print(timeline.keys())"
      ]
    },
    {
      "cell_type": "markdown",
      "metadata": {
        "id": "ChBY8GWSfQj9"
      },
      "source": [
        "Now that we have our data , I decided to view the keys in the file, not forgetten json is mostly stored as a dictionary and uses key-value pair,I needed the timeline data so i checked it type and realized it was a dict ,meaning it can be further explored."
      ]
    },
    {
      "cell_type": "code",
      "execution_count": null,
      "metadata": {
        "colab": {
          "base_uri": "https://localhost:8080/",
          "height": 363
        },
        "collapsed": true,
        "id": "cYCqgNg2PUHo",
        "outputId": "0b5334cb-fc57-4035-d142-c1e8243f928a"
      },
      "outputs": [
        {
          "data": {
            "application/vnd.google.colaboratory.intrinsic+json": {
              "repr_error": "0",
              "type": "dataframe"
            },
            "text/html": [
              "\n",
              "  <div id=\"df-7df53f87-fb5c-4668-a4bb-b50435368a56\" class=\"colab-df-container\">\n",
              "    <div>\n",
              "<style scoped>\n",
              "    .dataframe tbody tr th:only-of-type {\n",
              "        vertical-align: middle;\n",
              "    }\n",
              "\n",
              "    .dataframe tbody tr th {\n",
              "        vertical-align: top;\n",
              "    }\n",
              "\n",
              "    .dataframe thead th {\n",
              "        text-align: right;\n",
              "    }\n",
              "</style>\n",
              "<table border=\"1\" class=\"dataframe\">\n",
              "  <thead>\n",
              "    <tr style=\"text-align: right;\">\n",
              "      <th></th>\n",
              "      <th>Date</th>\n",
              "      <th>Deaths</th>\n",
              "      <th>Cases</th>\n",
              "      <th>Recovered</th>\n",
              "    </tr>\n",
              "  </thead>\n",
              "  <tbody>\n",
              "    <tr>\n",
              "      <th>1133</th>\n",
              "      <td>2/28/23</td>\n",
              "      <td>1462</td>\n",
              "      <td>171172</td>\n",
              "      <td>0</td>\n",
              "    </tr>\n",
              "    <tr>\n",
              "      <th>1134</th>\n",
              "      <td>3/1/23</td>\n",
              "      <td>1462</td>\n",
              "      <td>171172</td>\n",
              "      <td>0</td>\n",
              "    </tr>\n",
              "    <tr>\n",
              "      <th>1135</th>\n",
              "      <td>3/2/23</td>\n",
              "      <td>1462</td>\n",
              "      <td>171172</td>\n",
              "      <td>0</td>\n",
              "    </tr>\n",
              "    <tr>\n",
              "      <th>1136</th>\n",
              "      <td>3/3/23</td>\n",
              "      <td>1462</td>\n",
              "      <td>171172</td>\n",
              "      <td>0</td>\n",
              "    </tr>\n",
              "    <tr>\n",
              "      <th>1137</th>\n",
              "      <td>3/4/23</td>\n",
              "      <td>1462</td>\n",
              "      <td>171172</td>\n",
              "      <td>0</td>\n",
              "    </tr>\n",
              "    <tr>\n",
              "      <th>1138</th>\n",
              "      <td>3/5/23</td>\n",
              "      <td>1462</td>\n",
              "      <td>171209</td>\n",
              "      <td>0</td>\n",
              "    </tr>\n",
              "    <tr>\n",
              "      <th>1139</th>\n",
              "      <td>3/6/23</td>\n",
              "      <td>1462</td>\n",
              "      <td>171209</td>\n",
              "      <td>0</td>\n",
              "    </tr>\n",
              "    <tr>\n",
              "      <th>1140</th>\n",
              "      <td>3/7/23</td>\n",
              "      <td>1462</td>\n",
              "      <td>171229</td>\n",
              "      <td>0</td>\n",
              "    </tr>\n",
              "    <tr>\n",
              "      <th>1141</th>\n",
              "      <td>3/8/23</td>\n",
              "      <td>1462</td>\n",
              "      <td>171229</td>\n",
              "      <td>0</td>\n",
              "    </tr>\n",
              "    <tr>\n",
              "      <th>1142</th>\n",
              "      <td>3/9/23</td>\n",
              "      <td>1462</td>\n",
              "      <td>171229</td>\n",
              "      <td>0</td>\n",
              "    </tr>\n",
              "  </tbody>\n",
              "</table>\n",
              "</div>\n",
              "    <div class=\"colab-df-buttons\">\n",
              "\n",
              "  <div class=\"colab-df-container\">\n",
              "    <button class=\"colab-df-convert\" onclick=\"convertToInteractive('df-7df53f87-fb5c-4668-a4bb-b50435368a56')\"\n",
              "            title=\"Convert this dataframe to an interactive table.\"\n",
              "            style=\"display:none;\">\n",
              "\n",
              "  <svg xmlns=\"http://www.w3.org/2000/svg\" height=\"24px\" viewBox=\"0 -960 960 960\">\n",
              "    <path d=\"M120-120v-720h720v720H120Zm60-500h600v-160H180v160Zm220 220h160v-160H400v160Zm0 220h160v-160H400v160ZM180-400h160v-160H180v160Zm440 0h160v-160H620v160ZM180-180h160v-160H180v160Zm440 0h160v-160H620v160Z\"/>\n",
              "  </svg>\n",
              "    </button>\n",
              "\n",
              "  <style>\n",
              "    .colab-df-container {\n",
              "      display:flex;\n",
              "      gap: 12px;\n",
              "    }\n",
              "\n",
              "    .colab-df-convert {\n",
              "      background-color: #E8F0FE;\n",
              "      border: none;\n",
              "      border-radius: 50%;\n",
              "      cursor: pointer;\n",
              "      display: none;\n",
              "      fill: #1967D2;\n",
              "      height: 32px;\n",
              "      padding: 0 0 0 0;\n",
              "      width: 32px;\n",
              "    }\n",
              "\n",
              "    .colab-df-convert:hover {\n",
              "      background-color: #E2EBFA;\n",
              "      box-shadow: 0px 1px 2px rgba(60, 64, 67, 0.3), 0px 1px 3px 1px rgba(60, 64, 67, 0.15);\n",
              "      fill: #174EA6;\n",
              "    }\n",
              "\n",
              "    .colab-df-buttons div {\n",
              "      margin-bottom: 4px;\n",
              "    }\n",
              "\n",
              "    [theme=dark] .colab-df-convert {\n",
              "      background-color: #3B4455;\n",
              "      fill: #D2E3FC;\n",
              "    }\n",
              "\n",
              "    [theme=dark] .colab-df-convert:hover {\n",
              "      background-color: #434B5C;\n",
              "      box-shadow: 0px 1px 3px 1px rgba(0, 0, 0, 0.15);\n",
              "      filter: drop-shadow(0px 1px 2px rgba(0, 0, 0, 0.3));\n",
              "      fill: #FFFFFF;\n",
              "    }\n",
              "  </style>\n",
              "\n",
              "    <script>\n",
              "      const buttonEl =\n",
              "        document.querySelector('#df-7df53f87-fb5c-4668-a4bb-b50435368a56 button.colab-df-convert');\n",
              "      buttonEl.style.display =\n",
              "        google.colab.kernel.accessAllowed ? 'block' : 'none';\n",
              "\n",
              "      async function convertToInteractive(key) {\n",
              "        const element = document.querySelector('#df-7df53f87-fb5c-4668-a4bb-b50435368a56');\n",
              "        const dataTable =\n",
              "          await google.colab.kernel.invokeFunction('convertToInteractive',\n",
              "                                                    [key], {});\n",
              "        if (!dataTable) return;\n",
              "\n",
              "        const docLinkHtml = 'Like what you see? Visit the ' +\n",
              "          '<a target=\"_blank\" href=https://colab.research.google.com/notebooks/data_table.ipynb>data table notebook</a>'\n",
              "          + ' to learn more about interactive tables.';\n",
              "        element.innerHTML = '';\n",
              "        dataTable['output_type'] = 'display_data';\n",
              "        await google.colab.output.renderOutput(dataTable, element);\n",
              "        const docLink = document.createElement('div');\n",
              "        docLink.innerHTML = docLinkHtml;\n",
              "        element.appendChild(docLink);\n",
              "      }\n",
              "    </script>\n",
              "  </div>\n",
              "\n",
              "\n",
              "    <div id=\"df-fd3f1a5a-a5b2-47ca-82f1-9e41f27f57bd\">\n",
              "      <button class=\"colab-df-quickchart\" onclick=\"quickchart('df-fd3f1a5a-a5b2-47ca-82f1-9e41f27f57bd')\"\n",
              "                title=\"Suggest charts\"\n",
              "                style=\"display:none;\">\n",
              "\n",
              "<svg xmlns=\"http://www.w3.org/2000/svg\" height=\"24px\"viewBox=\"0 0 24 24\"\n",
              "     width=\"24px\">\n",
              "    <g>\n",
              "        <path d=\"M19 3H5c-1.1 0-2 .9-2 2v14c0 1.1.9 2 2 2h14c1.1 0 2-.9 2-2V5c0-1.1-.9-2-2-2zM9 17H7v-7h2v7zm4 0h-2V7h2v10zm4 0h-2v-4h2v4z\"/>\n",
              "    </g>\n",
              "</svg>\n",
              "      </button>\n",
              "\n",
              "<style>\n",
              "  .colab-df-quickchart {\n",
              "      --bg-color: #E8F0FE;\n",
              "      --fill-color: #1967D2;\n",
              "      --hover-bg-color: #E2EBFA;\n",
              "      --hover-fill-color: #174EA6;\n",
              "      --disabled-fill-color: #AAA;\n",
              "      --disabled-bg-color: #DDD;\n",
              "  }\n",
              "\n",
              "  [theme=dark] .colab-df-quickchart {\n",
              "      --bg-color: #3B4455;\n",
              "      --fill-color: #D2E3FC;\n",
              "      --hover-bg-color: #434B5C;\n",
              "      --hover-fill-color: #FFFFFF;\n",
              "      --disabled-bg-color: #3B4455;\n",
              "      --disabled-fill-color: #666;\n",
              "  }\n",
              "\n",
              "  .colab-df-quickchart {\n",
              "    background-color: var(--bg-color);\n",
              "    border: none;\n",
              "    border-radius: 50%;\n",
              "    cursor: pointer;\n",
              "    display: none;\n",
              "    fill: var(--fill-color);\n",
              "    height: 32px;\n",
              "    padding: 0;\n",
              "    width: 32px;\n",
              "  }\n",
              "\n",
              "  .colab-df-quickchart:hover {\n",
              "    background-color: var(--hover-bg-color);\n",
              "    box-shadow: 0 1px 2px rgba(60, 64, 67, 0.3), 0 1px 3px 1px rgba(60, 64, 67, 0.15);\n",
              "    fill: var(--button-hover-fill-color);\n",
              "  }\n",
              "\n",
              "  .colab-df-quickchart-complete:disabled,\n",
              "  .colab-df-quickchart-complete:disabled:hover {\n",
              "    background-color: var(--disabled-bg-color);\n",
              "    fill: var(--disabled-fill-color);\n",
              "    box-shadow: none;\n",
              "  }\n",
              "\n",
              "  .colab-df-spinner {\n",
              "    border: 2px solid var(--fill-color);\n",
              "    border-color: transparent;\n",
              "    border-bottom-color: var(--fill-color);\n",
              "    animation:\n",
              "      spin 1s steps(1) infinite;\n",
              "  }\n",
              "\n",
              "  @keyframes spin {\n",
              "    0% {\n",
              "      border-color: transparent;\n",
              "      border-bottom-color: var(--fill-color);\n",
              "      border-left-color: var(--fill-color);\n",
              "    }\n",
              "    20% {\n",
              "      border-color: transparent;\n",
              "      border-left-color: var(--fill-color);\n",
              "      border-top-color: var(--fill-color);\n",
              "    }\n",
              "    30% {\n",
              "      border-color: transparent;\n",
              "      border-left-color: var(--fill-color);\n",
              "      border-top-color: var(--fill-color);\n",
              "      border-right-color: var(--fill-color);\n",
              "    }\n",
              "    40% {\n",
              "      border-color: transparent;\n",
              "      border-right-color: var(--fill-color);\n",
              "      border-top-color: var(--fill-color);\n",
              "    }\n",
              "    60% {\n",
              "      border-color: transparent;\n",
              "      border-right-color: var(--fill-color);\n",
              "    }\n",
              "    80% {\n",
              "      border-color: transparent;\n",
              "      border-right-color: var(--fill-color);\n",
              "      border-bottom-color: var(--fill-color);\n",
              "    }\n",
              "    90% {\n",
              "      border-color: transparent;\n",
              "      border-bottom-color: var(--fill-color);\n",
              "    }\n",
              "  }\n",
              "</style>\n",
              "\n",
              "      <script>\n",
              "        async function quickchart(key) {\n",
              "          const quickchartButtonEl =\n",
              "            document.querySelector('#' + key + ' button');\n",
              "          quickchartButtonEl.disabled = true;  // To prevent multiple clicks.\n",
              "          quickchartButtonEl.classList.add('colab-df-spinner');\n",
              "          try {\n",
              "            const charts = await google.colab.kernel.invokeFunction(\n",
              "                'suggestCharts', [key], {});\n",
              "          } catch (error) {\n",
              "            console.error('Error during call to suggestCharts:', error);\n",
              "          }\n",
              "          quickchartButtonEl.classList.remove('colab-df-spinner');\n",
              "          quickchartButtonEl.classList.add('colab-df-quickchart-complete');\n",
              "        }\n",
              "        (() => {\n",
              "          let quickchartButtonEl =\n",
              "            document.querySelector('#df-fd3f1a5a-a5b2-47ca-82f1-9e41f27f57bd button');\n",
              "          quickchartButtonEl.style.display =\n",
              "            google.colab.kernel.accessAllowed ? 'block' : 'none';\n",
              "        })();\n",
              "      </script>\n",
              "    </div>\n",
              "\n",
              "    </div>\n",
              "  </div>\n"
            ],
            "text/plain": [
              "         Date  Deaths   Cases  Recovered\n",
              "1133  2/28/23    1462  171172          0\n",
              "1134   3/1/23    1462  171172          0\n",
              "1135   3/2/23    1462  171172          0\n",
              "1136   3/3/23    1462  171172          0\n",
              "1137   3/4/23    1462  171172          0\n",
              "1138   3/5/23    1462  171209          0\n",
              "1139   3/6/23    1462  171209          0\n",
              "1140   3/7/23    1462  171229          0\n",
              "1141   3/8/23    1462  171229          0\n",
              "1142   3/9/23    1462  171229          0"
            ]
          },
          "execution_count": 4,
          "metadata": {},
          "output_type": "execute_result"
        }
      ],
      "source": [
        "cases = pd.DataFrame(list(timeline['cases'].items()), columns=['Date', 'Cases'])\n",
        "deaths = pd.DataFrame(list(timeline['deaths'].items()), columns=['Date', 'Deaths'])\n",
        "recovered = pd.DataFrame(list(timeline['recovered'].items()), columns=['Date', 'Recovered'])\n",
        "country = pd.DataFrame({'country': [data['country']]})\n",
        "df = pd.merge(deaths, cases,  on='Date')\n",
        "df = df.merge(recovered, on='Date')\n",
        "df.tail(10)"
      ]
    },
    {
      "cell_type": "markdown",
      "metadata": {
        "id": "HSsUNbIBifNt"
      },
      "source": [
        "pd.Dataframe(..)is how we create table-like structures in pandas,so we pass it as a dict and .items() converts the dicts to tuples in a row format,pandas doesn't know  what the column names of a tuple should be so we define it ,that's why we introduced columns ,without the columns pandas will just name it 0 and 1. pd.merge is used to join the individual tables together ,the on date is sort of like a foreign key so with this one merge every table that has the same date as a column"
      ]
    },
    {
      "cell_type": "code",
      "execution_count": null,
      "metadata": {
        "id": "jHwoW8nNWJbR"
      },
      "outputs": [],
      "source": [
        "url_nigeria= \"https://disease.sh/v3/covid-19/historical/nigeria?lastdays=all\"\n",
        "response_nigeria = requests.get(url_nigeria)\n",
        "if response_nigeria.status_code == 200:\n",
        "    data_nigeria = response_nigeria.json()\n",
        "else:\n",
        "  print(\"Failed to fetch data, response.status_code\")"
      ]
    },
    {
      "cell_type": "markdown",
      "metadata": {},
      "source": [
        "I did the same for Nigeria"
      ]
    },
    {
      "cell_type": "code",
      "execution_count": null,
      "metadata": {
        "colab": {
          "base_uri": "https://localhost:8080/"
        },
        "id": "eCRhbypkWeOa",
        "outputId": "e8835858-fa89-4364-cba8-378d6acf2ab4"
      },
      "outputs": [
        {
          "name": "stdout",
          "output_type": "stream",
          "text": [
            "dict_keys(['country', 'province', 'timeline'])\n",
            "dict_keys(['cases', 'deaths', 'recovered'])\n"
          ]
        }
      ],
      "source": [
        "print(data_nigeria.keys())\n",
        "type(data_nigeria['timeline'])\n",
        "timeline = data_nigeria['timeline']\n",
        "print(timeline.keys())"
      ]
    },
    {
      "cell_type": "code",
      "execution_count": null,
      "metadata": {
        "colab": {
          "base_uri": "https://localhost:8080/",
          "height": 363
        },
        "id": "Yw5p_wOXWpC1",
        "outputId": "ac8dcb23-1dea-4e16-d4f0-9a4a29a5f5fc"
      },
      "outputs": [
        {
          "data": {
            "application/vnd.google.colaboratory.intrinsic+json": {
              "repr_error": "0",
              "type": "dataframe"
            },
            "text/html": [
              "\n",
              "  <div id=\"df-1a4daf93-5163-4bc5-851b-7e9e19e9fce0\" class=\"colab-df-container\">\n",
              "    <div>\n",
              "<style scoped>\n",
              "    .dataframe tbody tr th:only-of-type {\n",
              "        vertical-align: middle;\n",
              "    }\n",
              "\n",
              "    .dataframe tbody tr th {\n",
              "        vertical-align: top;\n",
              "    }\n",
              "\n",
              "    .dataframe thead th {\n",
              "        text-align: right;\n",
              "    }\n",
              "</style>\n",
              "<table border=\"1\" class=\"dataframe\">\n",
              "  <thead>\n",
              "    <tr style=\"text-align: right;\">\n",
              "      <th></th>\n",
              "      <th>Date</th>\n",
              "      <th>Deaths</th>\n",
              "      <th>Cases</th>\n",
              "      <th>Recovered</th>\n",
              "    </tr>\n",
              "  </thead>\n",
              "  <tbody>\n",
              "    <tr>\n",
              "      <th>1133</th>\n",
              "      <td>2/28/23</td>\n",
              "      <td>3155</td>\n",
              "      <td>266593</td>\n",
              "      <td>0</td>\n",
              "    </tr>\n",
              "    <tr>\n",
              "      <th>1134</th>\n",
              "      <td>3/1/23</td>\n",
              "      <td>3155</td>\n",
              "      <td>266598</td>\n",
              "      <td>0</td>\n",
              "    </tr>\n",
              "    <tr>\n",
              "      <th>1135</th>\n",
              "      <td>3/2/23</td>\n",
              "      <td>3155</td>\n",
              "      <td>266598</td>\n",
              "      <td>0</td>\n",
              "    </tr>\n",
              "    <tr>\n",
              "      <th>1136</th>\n",
              "      <td>3/3/23</td>\n",
              "      <td>3155</td>\n",
              "      <td>266598</td>\n",
              "      <td>0</td>\n",
              "    </tr>\n",
              "    <tr>\n",
              "      <th>1137</th>\n",
              "      <td>3/4/23</td>\n",
              "      <td>3155</td>\n",
              "      <td>266598</td>\n",
              "      <td>0</td>\n",
              "    </tr>\n",
              "    <tr>\n",
              "      <th>1138</th>\n",
              "      <td>3/5/23</td>\n",
              "      <td>3155</td>\n",
              "      <td>266598</td>\n",
              "      <td>0</td>\n",
              "    </tr>\n",
              "    <tr>\n",
              "      <th>1139</th>\n",
              "      <td>3/6/23</td>\n",
              "      <td>3155</td>\n",
              "      <td>266598</td>\n",
              "      <td>0</td>\n",
              "    </tr>\n",
              "    <tr>\n",
              "      <th>1140</th>\n",
              "      <td>3/7/23</td>\n",
              "      <td>3155</td>\n",
              "      <td>266598</td>\n",
              "      <td>0</td>\n",
              "    </tr>\n",
              "    <tr>\n",
              "      <th>1141</th>\n",
              "      <td>3/8/23</td>\n",
              "      <td>3155</td>\n",
              "      <td>266598</td>\n",
              "      <td>0</td>\n",
              "    </tr>\n",
              "    <tr>\n",
              "      <th>1142</th>\n",
              "      <td>3/9/23</td>\n",
              "      <td>3155</td>\n",
              "      <td>266598</td>\n",
              "      <td>0</td>\n",
              "    </tr>\n",
              "  </tbody>\n",
              "</table>\n",
              "</div>\n",
              "    <div class=\"colab-df-buttons\">\n",
              "\n",
              "  <div class=\"colab-df-container\">\n",
              "    <button class=\"colab-df-convert\" onclick=\"convertToInteractive('df-1a4daf93-5163-4bc5-851b-7e9e19e9fce0')\"\n",
              "            title=\"Convert this dataframe to an interactive table.\"\n",
              "            style=\"display:none;\">\n",
              "\n",
              "  <svg xmlns=\"http://www.w3.org/2000/svg\" height=\"24px\" viewBox=\"0 -960 960 960\">\n",
              "    <path d=\"M120-120v-720h720v720H120Zm60-500h600v-160H180v160Zm220 220h160v-160H400v160Zm0 220h160v-160H400v160ZM180-400h160v-160H180v160Zm440 0h160v-160H620v160ZM180-180h160v-160H180v160Zm440 0h160v-160H620v160Z\"/>\n",
              "  </svg>\n",
              "    </button>\n",
              "\n",
              "  <style>\n",
              "    .colab-df-container {\n",
              "      display:flex;\n",
              "      gap: 12px;\n",
              "    }\n",
              "\n",
              "    .colab-df-convert {\n",
              "      background-color: #E8F0FE;\n",
              "      border: none;\n",
              "      border-radius: 50%;\n",
              "      cursor: pointer;\n",
              "      display: none;\n",
              "      fill: #1967D2;\n",
              "      height: 32px;\n",
              "      padding: 0 0 0 0;\n",
              "      width: 32px;\n",
              "    }\n",
              "\n",
              "    .colab-df-convert:hover {\n",
              "      background-color: #E2EBFA;\n",
              "      box-shadow: 0px 1px 2px rgba(60, 64, 67, 0.3), 0px 1px 3px 1px rgba(60, 64, 67, 0.15);\n",
              "      fill: #174EA6;\n",
              "    }\n",
              "\n",
              "    .colab-df-buttons div {\n",
              "      margin-bottom: 4px;\n",
              "    }\n",
              "\n",
              "    [theme=dark] .colab-df-convert {\n",
              "      background-color: #3B4455;\n",
              "      fill: #D2E3FC;\n",
              "    }\n",
              "\n",
              "    [theme=dark] .colab-df-convert:hover {\n",
              "      background-color: #434B5C;\n",
              "      box-shadow: 0px 1px 3px 1px rgba(0, 0, 0, 0.15);\n",
              "      filter: drop-shadow(0px 1px 2px rgba(0, 0, 0, 0.3));\n",
              "      fill: #FFFFFF;\n",
              "    }\n",
              "  </style>\n",
              "\n",
              "    <script>\n",
              "      const buttonEl =\n",
              "        document.querySelector('#df-1a4daf93-5163-4bc5-851b-7e9e19e9fce0 button.colab-df-convert');\n",
              "      buttonEl.style.display =\n",
              "        google.colab.kernel.accessAllowed ? 'block' : 'none';\n",
              "\n",
              "      async function convertToInteractive(key) {\n",
              "        const element = document.querySelector('#df-1a4daf93-5163-4bc5-851b-7e9e19e9fce0');\n",
              "        const dataTable =\n",
              "          await google.colab.kernel.invokeFunction('convertToInteractive',\n",
              "                                                    [key], {});\n",
              "        if (!dataTable) return;\n",
              "\n",
              "        const docLinkHtml = 'Like what you see? Visit the ' +\n",
              "          '<a target=\"_blank\" href=https://colab.research.google.com/notebooks/data_table.ipynb>data table notebook</a>'\n",
              "          + ' to learn more about interactive tables.';\n",
              "        element.innerHTML = '';\n",
              "        dataTable['output_type'] = 'display_data';\n",
              "        await google.colab.output.renderOutput(dataTable, element);\n",
              "        const docLink = document.createElement('div');\n",
              "        docLink.innerHTML = docLinkHtml;\n",
              "        element.appendChild(docLink);\n",
              "      }\n",
              "    </script>\n",
              "  </div>\n",
              "\n",
              "\n",
              "    <div id=\"df-133c14c5-7712-4096-9d29-dbe835a71d2b\">\n",
              "      <button class=\"colab-df-quickchart\" onclick=\"quickchart('df-133c14c5-7712-4096-9d29-dbe835a71d2b')\"\n",
              "                title=\"Suggest charts\"\n",
              "                style=\"display:none;\">\n",
              "\n",
              "<svg xmlns=\"http://www.w3.org/2000/svg\" height=\"24px\"viewBox=\"0 0 24 24\"\n",
              "     width=\"24px\">\n",
              "    <g>\n",
              "        <path d=\"M19 3H5c-1.1 0-2 .9-2 2v14c0 1.1.9 2 2 2h14c1.1 0 2-.9 2-2V5c0-1.1-.9-2-2-2zM9 17H7v-7h2v7zm4 0h-2V7h2v10zm4 0h-2v-4h2v4z\"/>\n",
              "    </g>\n",
              "</svg>\n",
              "      </button>\n",
              "\n",
              "<style>\n",
              "  .colab-df-quickchart {\n",
              "      --bg-color: #E8F0FE;\n",
              "      --fill-color: #1967D2;\n",
              "      --hover-bg-color: #E2EBFA;\n",
              "      --hover-fill-color: #174EA6;\n",
              "      --disabled-fill-color: #AAA;\n",
              "      --disabled-bg-color: #DDD;\n",
              "  }\n",
              "\n",
              "  [theme=dark] .colab-df-quickchart {\n",
              "      --bg-color: #3B4455;\n",
              "      --fill-color: #D2E3FC;\n",
              "      --hover-bg-color: #434B5C;\n",
              "      --hover-fill-color: #FFFFFF;\n",
              "      --disabled-bg-color: #3B4455;\n",
              "      --disabled-fill-color: #666;\n",
              "  }\n",
              "\n",
              "  .colab-df-quickchart {\n",
              "    background-color: var(--bg-color);\n",
              "    border: none;\n",
              "    border-radius: 50%;\n",
              "    cursor: pointer;\n",
              "    display: none;\n",
              "    fill: var(--fill-color);\n",
              "    height: 32px;\n",
              "    padding: 0;\n",
              "    width: 32px;\n",
              "  }\n",
              "\n",
              "  .colab-df-quickchart:hover {\n",
              "    background-color: var(--hover-bg-color);\n",
              "    box-shadow: 0 1px 2px rgba(60, 64, 67, 0.3), 0 1px 3px 1px rgba(60, 64, 67, 0.15);\n",
              "    fill: var(--button-hover-fill-color);\n",
              "  }\n",
              "\n",
              "  .colab-df-quickchart-complete:disabled,\n",
              "  .colab-df-quickchart-complete:disabled:hover {\n",
              "    background-color: var(--disabled-bg-color);\n",
              "    fill: var(--disabled-fill-color);\n",
              "    box-shadow: none;\n",
              "  }\n",
              "\n",
              "  .colab-df-spinner {\n",
              "    border: 2px solid var(--fill-color);\n",
              "    border-color: transparent;\n",
              "    border-bottom-color: var(--fill-color);\n",
              "    animation:\n",
              "      spin 1s steps(1) infinite;\n",
              "  }\n",
              "\n",
              "  @keyframes spin {\n",
              "    0% {\n",
              "      border-color: transparent;\n",
              "      border-bottom-color: var(--fill-color);\n",
              "      border-left-color: var(--fill-color);\n",
              "    }\n",
              "    20% {\n",
              "      border-color: transparent;\n",
              "      border-left-color: var(--fill-color);\n",
              "      border-top-color: var(--fill-color);\n",
              "    }\n",
              "    30% {\n",
              "      border-color: transparent;\n",
              "      border-left-color: var(--fill-color);\n",
              "      border-top-color: var(--fill-color);\n",
              "      border-right-color: var(--fill-color);\n",
              "    }\n",
              "    40% {\n",
              "      border-color: transparent;\n",
              "      border-right-color: var(--fill-color);\n",
              "      border-top-color: var(--fill-color);\n",
              "    }\n",
              "    60% {\n",
              "      border-color: transparent;\n",
              "      border-right-color: var(--fill-color);\n",
              "    }\n",
              "    80% {\n",
              "      border-color: transparent;\n",
              "      border-right-color: var(--fill-color);\n",
              "      border-bottom-color: var(--fill-color);\n",
              "    }\n",
              "    90% {\n",
              "      border-color: transparent;\n",
              "      border-bottom-color: var(--fill-color);\n",
              "    }\n",
              "  }\n",
              "</style>\n",
              "\n",
              "      <script>\n",
              "        async function quickchart(key) {\n",
              "          const quickchartButtonEl =\n",
              "            document.querySelector('#' + key + ' button');\n",
              "          quickchartButtonEl.disabled = true;  // To prevent multiple clicks.\n",
              "          quickchartButtonEl.classList.add('colab-df-spinner');\n",
              "          try {\n",
              "            const charts = await google.colab.kernel.invokeFunction(\n",
              "                'suggestCharts', [key], {});\n",
              "          } catch (error) {\n",
              "            console.error('Error during call to suggestCharts:', error);\n",
              "          }\n",
              "          quickchartButtonEl.classList.remove('colab-df-spinner');\n",
              "          quickchartButtonEl.classList.add('colab-df-quickchart-complete');\n",
              "        }\n",
              "        (() => {\n",
              "          let quickchartButtonEl =\n",
              "            document.querySelector('#df-133c14c5-7712-4096-9d29-dbe835a71d2b button');\n",
              "          quickchartButtonEl.style.display =\n",
              "            google.colab.kernel.accessAllowed ? 'block' : 'none';\n",
              "        })();\n",
              "      </script>\n",
              "    </div>\n",
              "\n",
              "    </div>\n",
              "  </div>\n"
            ],
            "text/plain": [
              "         Date  Deaths   Cases  Recovered\n",
              "1133  2/28/23    3155  266593          0\n",
              "1134   3/1/23    3155  266598          0\n",
              "1135   3/2/23    3155  266598          0\n",
              "1136   3/3/23    3155  266598          0\n",
              "1137   3/4/23    3155  266598          0\n",
              "1138   3/5/23    3155  266598          0\n",
              "1139   3/6/23    3155  266598          0\n",
              "1140   3/7/23    3155  266598          0\n",
              "1141   3/8/23    3155  266598          0\n",
              "1142   3/9/23    3155  266598          0"
            ]
          },
          "execution_count": 9,
          "metadata": {},
          "output_type": "execute_result"
        }
      ],
      "source": [
        "cases = pd.DataFrame(list(timeline['cases'].items()), columns=['Date', 'Cases'])\n",
        "deaths = pd.DataFrame(list(timeline['deaths'].items()), columns=['Date', 'Deaths'])\n",
        "recovered = pd.DataFrame(list(timeline['recovered'].items()), columns=['Date', 'Recovered'])\n",
        "country = pd.DataFrame({'country': [data_nigeria['country']]})\n",
        "df_nigeria = pd.merge(deaths, cases,  on='Date')\n",
        "df_nigeria = df_nigeria.merge(recovered, on='Date')\n",
        "df_nigeria.tail(10)"
      ]
    },
    {
      "cell_type": "code",
      "execution_count": null,
      "metadata": {
        "colab": {
          "base_uri": "https://localhost:8080/",
          "height": 147
        },
        "id": "aUSQ33AwXY0u",
        "outputId": "37287270-cbf9-4938-85a0-15f31d773f80"
      },
      "outputs": [
        {
          "data": {
            "text/html": [
              "<div>\n",
              "<style scoped>\n",
              "    .dataframe tbody tr th:only-of-type {\n",
              "        vertical-align: middle;\n",
              "    }\n",
              "\n",
              "    .dataframe tbody tr th {\n",
              "        vertical-align: top;\n",
              "    }\n",
              "\n",
              "    .dataframe thead th {\n",
              "        text-align: right;\n",
              "    }\n",
              "</style>\n",
              "<table border=\"1\" class=\"dataframe\">\n",
              "  <thead>\n",
              "    <tr style=\"text-align: right;\">\n",
              "      <th></th>\n",
              "      <th>count</th>\n",
              "    </tr>\n",
              "    <tr>\n",
              "      <th>country</th>\n",
              "      <th></th>\n",
              "    </tr>\n",
              "  </thead>\n",
              "  <tbody>\n",
              "    <tr>\n",
              "      <th>Nigeria</th>\n",
              "      <td>1143</td>\n",
              "    </tr>\n",
              "  </tbody>\n",
              "</table>\n",
              "</div><br><label><b>dtype:</b> int64</label>"
            ],
            "text/plain": [
              "country\n",
              "Nigeria    1143\n",
              "Name: count, dtype: int64"
            ]
          },
          "execution_count": 10,
          "metadata": {},
          "output_type": "execute_result"
        }
      ],
      "source": [
        "df_nigeria['country']= data_nigeria['country']\n",
        "df_nigeria['country'].value_counts()"
      ]
    },
    {
      "cell_type": "code",
      "execution_count": null,
      "metadata": {
        "id": "Y1FAGI6heVPJ"
      },
      "outputs": [],
      "source": [
        "df_nigeria['country'] = 'Nigeria'\n",
        "df['country'] = 'Ghana'\n"
      ]
    },
    {
      "cell_type": "markdown",
      "metadata": {},
      "source": [
        "I added this because country wasn't showing when I concated both tables"
      ]
    },
    {
      "cell_type": "code",
      "execution_count": null,
      "metadata": {
        "colab": {
          "base_uri": "https://localhost:8080/"
        },
        "id": "KSDEBZ26XYnx",
        "outputId": "865a8438-10b5-4361-8f7a-a1e7c235afe9"
      },
      "outputs": [
        {
          "name": "stdout",
          "output_type": "stream",
          "text": [
            "        Date  Deaths   Cases  Recovered  country\n",
            "2281  3/5/23    3155  266598          0  Nigeria\n",
            "2282  3/6/23    3155  266598          0  Nigeria\n",
            "2283  3/7/23    3155  266598          0  Nigeria\n",
            "2284  3/8/23    3155  266598          0  Nigeria\n",
            "2285  3/9/23    3155  266598          0  Nigeria\n"
          ]
        }
      ],
      "source": [
        "# Combine rows\n",
        "df_combined = pd.concat([df, df_nigeria], ignore_index=True)\n",
        "\n",
        "# Check first few rows\n",
        "print(df_combined.tail())\n"
      ]
    },
    {
      "cell_type": "code",
      "execution_count": null,
      "metadata": {
        "colab": {
          "base_uri": "https://localhost:8080/"
        },
        "id": "8F_BUzJy7Hoz",
        "outputId": "6fdd0582-05b1-49dc-e33e-dafd47454449"
      },
      "outputs": [
        {
          "name": "stderr",
          "output_type": "stream",
          "text": [
            "/tmp/ipython-input-1225326864.py:2: UserWarning: Could not infer format, so each element will be parsed individually, falling back to `dateutil`. To ensure parsing is consistent and as-expected, please specify a format.\n",
            "  df['Date'] = pd.to_datetime(df['Date'])\n",
            "/tmp/ipython-input-1225326864.py:3: UserWarning: Could not infer format, so each element will be parsed individually, falling back to `dateutil`. To ensure parsing is consistent and as-expected, please specify a format.\n",
            "  df_nigeria['Date'] = pd.to_datetime(df_nigeria['Date'])\n"
          ]
        }
      ],
      "source": [
        "import matplotlib.pyplot as plt\n",
        "df['Date'] = pd.to_datetime(df['Date'])\n",
        "df_nigeria['Date'] = pd.to_datetime(df_nigeria['Date'])\n"
      ]
    },
    {
      "cell_type": "code",
      "execution_count": null,
      "metadata": {
        "colab": {
          "base_uri": "https://localhost:8080/",
          "height": 564
        },
        "id": "Ny8QYWJ67YLF",
        "outputId": "7754b298-7b31-45a5-c6c2-0cb0a0b35ea7"
      },
      "outputs": [
        {
          "data": {
            "image/png": "[encoded data removed]",
            "text/plain": [
              "<Figure size 1200x600 with 1 Axes>"
            ]
          },
          "metadata": {},
          "output_type": "display_data"
        }
      ],
      "source": [
        "plt.figure(figsize=(12,6))\n",
        "\n",
        "# Ghana\n",
        "data = df[df['country'] == 'Ghana']\n",
        "plt.plot(data['Date'], data['Cases'], label='Ghana', color='green')\n",
        "\n",
        "# Nigeria\n",
        "data_nigeria = df_nigeria[df_nigeria['country'] == 'Nigeria']\n",
        "plt.plot(data_nigeria['Date'], data_nigeria['Cases'], label='Nigeria', color='blue')\n",
        "\n",
        "# Labels\n",
        "plt.title('COVID-19 Cases: Ghana vs Nigeria')\n",
        "plt.xlabel('Date')\n",
        "plt.ylabel('Cases')\n",
        "plt.legend()\n",
        "plt.grid(True)\n",
        "plt.show()"
      ]
    },
    {
      "cell_type": "markdown",
      "metadata": {},
      "source": [
        "Visual view of my data\n"
      ]
    },
    {
      "cell_type": "code",
      "execution_count": null,
      "metadata": {
        "colab": {
          "base_uri": "https://localhost:8080/"
        },
        "id": "Rh5dMMaSSJNz",
        "outputId": "f6aed952-285f-49f4-f139-2968c4e15951"
      },
      "outputs": [
        {
          "name": "stdout",
          "output_type": "stream",
          "text": [
            "Print COVID-19 data stored in SQLite\n",
            "                         Date  Deaths  Cases  Recovered country\n",
            "0  2020-01-22 00:00:00.000000       0      0          0   Ghana\n",
            "1  2020-01-23 00:00:00.000000       0      0          0   Ghana\n",
            "2  2020-01-24 00:00:00.000000       0      0          0   Ghana\n",
            "3  2020-01-25 00:00:00.000000       0      0          0   Ghana\n",
            "4  2020-01-26 00:00:00.000000       0      0          0   Ghana\n"
          ]
        }
      ],
      "source": [
        "from sqlalchemy import create_engine\n",
        "\n",
        "df = pd.DataFrame(data)\n",
        "df_nigeria = pd.DataFrame(data_nigeria)\n",
        "\n",
        "# SQLite engine (file will be stored in Colab)\n",
        "conn = create_engine(\"sqlite:///mydata.db\")\n",
        "\n",
        "# Save dataframe to SQL\n",
        "df.to_sql(\"covid_data\", conn, if_exists=\"replace\", index=False)\n",
        "df_nigeria.to_sql(\"covid_data\", conn, if_exists=\"append\", index=False)\n",
        "\n",
        "\n",
        "print(\"Print COVID-19 data stored in SQLite\")\n",
        "\n",
        "# checking if it works\n",
        "df_check = pd.read_sql(\"SELECT * FROM covid_data LIMIT 5\", conn)\n",
        "print(df_check)\n"
      ]
    },
    {
      "cell_type": "code",
      "execution_count": null,
      "metadata": {
        "colab": {
          "base_uri": "https://localhost:8080/"
        },
        "id": "2V1rAYlFTXT5",
        "outputId": "60b2a896-771f-4f71-c165-1a3daddae109"
      },
      "outputs": [
        {
          "name": "stdout",
          "output_type": "stream",
          "text": [
            "   total_deaths  total_cases\n",
            "0          1143         1143\n",
            "1          1143         1143\n"
          ]
        }
      ],
      "source": [
        "query = \"SELECT count(deaths) AS total_deaths, count(cases) AS total_cases FROM covid_data group by country\"\n",
        "count = pd.read_sql(query, conn)\n",
        "print(count)"
      ]
    },
    {
      "cell_type": "code",
      "execution_count": null,
      "metadata": {
        "colab": {
          "base_uri": "https://localhost:8080/"
        },
        "id": "GRZIKildVpLP",
        "outputId": "0689ba39-e32f-4cc3-bdc7-7207e72e61a9"
      },
      "outputs": [
        {
          "name": "stdout",
          "output_type": "stream",
          "text": [
            "                         Date   Cases  country\n",
            "0  2023-03-07 00:00:00.000000  171229    Ghana\n",
            "1  2023-03-01 00:00:00.000000  266598  Nigeria\n"
          ]
        }
      ],
      "source": [
        "query = \"select c.date,c.cases, c.country from covid_data c where c.date =  (select date from covid_data  where country = c.country order by cases desc, date asc limit 1)\"\n",
        "results = pd.read_sql(query, conn)\n",
        "print(results)"
      ]
    },
    {
      "cell_type": "markdown",
      "metadata": {
        "id": "elxETcSxZ_9Z"
      },
      "source": [
        "Comparing Peak Cases Dates"
      ]
    },
    {
      "cell_type": "code",
      "execution_count": null,
      "metadata": {
        "colab": {
          "base_uri": "https://localhost:8080/"
        },
        "id": "n14I5UD5Z9sz",
        "outputId": "a7e7aa17-9bbb-44f7-8db2-c2c5a0a6b01e"
      },
      "outputs": [
        {
          "name": "stdout",
          "output_type": "stream",
          "text": [
            "                         Date  Deaths  country\n",
            "0  2023-01-13 00:00:00.000000    1462    Ghana\n",
            "1  2022-09-13 00:00:00.000000    3155  Nigeria\n"
          ]
        }
      ],
      "source": [
        "query = \"select c.date,c.deaths, c.country from covid_data c where c.date =  (select date from covid_data  where country = c.country order by deaths desc, date asc limit 1)\"\n",
        "results = pd.read_sql(query, conn)\n",
        "print(results)"
      ]
    },
    {
      "cell_type": "markdown",
      "metadata": {
        "id": "sgqslCXBahh_"
      },
      "source": [
        "Finding the highest death per country"
      ]
    },
    {
      "cell_type": "code",
      "execution_count": null,
      "metadata": {
        "colab": {
          "base_uri": "https://localhost:8080/"
        },
        "id": "RN7QRQkPdcQl",
        "outputId": "aff3ae78-b1b2-425c-c4a2-458526f3eabf"
      },
      "outputs": [
        {
          "name": "stdout",
          "output_type": "stream",
          "text": [
            "                         Date  Deaths  Cases  Recovered country\n",
            "0  2020-05-01 00:00:00.000000      17   2074        212   Ghana\n"
          ]
        }
      ],
      "source": [
        "query = \"select * from covid_data limit 1 offset 100\"\n",
        "results = pd.read_sql(query, conn)\n",
        "print(results)"
      ]
    },
    {
      "cell_type": "markdown",
      "metadata": {
        "id": "n_nyNEGadvEO"
      },
      "source": [
        "Queried a particular row to see what was recorded"
      ]
    },
    {
      "cell_type": "code",
      "execution_count": null,
      "metadata": {
        "colab": {
          "base_uri": "https://localhost:8080/"
        },
        "id": "BkMq7wc4eCHg",
        "outputId": "2f7fe619-5b5a-4eb7-dba0-637e89a4998c"
      },
      "outputs": [
        {
          "name": "stdout",
          "output_type": "stream",
          "text": [
            "                         Date  Deaths  Cases  Recovered  country\n",
            "0  2020-05-01 00:00:00.000000      68   2170        351  Nigeria\n"
          ]
        }
      ],
      "source": [
        "query = \"select * from covid_data where country = 'Nigeria' limit 1 offset 100\"\n",
        "results = pd.read_sql(query, conn)\n",
        "print(results)"
      ]
    },
    {
      "cell_type": "markdown",
      "metadata": {
        "id": "H63nIgT9eLta"
      },
      "source": [
        "Did same for Nigeria"
      ]
    },
    {
      "cell_type": "code",
      "execution_count": null,
      "metadata": {
        "colab": {
          "base_uri": "https://localhost:8080/"
        },
        "id": "j9TGzfdpeXJ_",
        "outputId": "00c0f532-c1a1-4303-c542-5fded7cead3d"
      },
      "outputs": [
        {
          "name": "stdout",
          "output_type": "stream",
          "text": [
            "                         Date  Deaths  Cases  Recovered  country\n",
            "0  2020-09-21 00:00:00.000000     297  46062      45258    Ghana\n",
            "1  2020-09-21 00:00:00.000000    1100  57437      48674  Nigeria\n"
          ]
        }
      ],
      "source": [
        "query = \"select * from covid_data where date ='2020-09-21 00:00:00.000000'\"\n",
        "results = pd.read_sql(query, conn)\n",
        "print(results)"
      ]
    },
    {
      "cell_type": "markdown",
      "metadata": {
        "id": "6XKCtAlmfuy3"
      },
      "source": [
        "Used a specific date to fetch data"
      ]
    },
    {
      "cell_type": "code",
      "execution_count": null,
      "metadata": {
        "colab": {
          "base_uri": "https://localhost:8080/"
        },
        "id": "kd1cgk6xhaxF",
        "outputId": "0cf74bed-03c3-4be0-ac95-1efe21e8ae38"
      },
      "outputs": [
        {
          "name": "stdout",
          "output_type": "stream",
          "text": [
            "   country  Total_Cases  Total_Deaths  Total_Recovered\n",
            "0    Ghana    117781853        994429         25893775\n",
            "1  Nigeria    188300124       2402121         39492087\n"
          ]
        }
      ],
      "source": [
        "query = \"select country, sum(cases) as Total_Cases, sum(deaths) as Total_Deaths, sum(recovered) as Total_Recovered from covid_data group by country \"\n",
        "results = pd.read_sql(query, conn)\n",
        "print(results)"
      ]
    },
    {
      "cell_type": "markdown",
      "metadata": {
        "id": "1S3HXKlrhmp_"
      },
      "source": [
        "Total cases, deaths and recoveries per country"
      ]
    },
    {
      "cell_type": "code",
      "execution_count": null,
      "metadata": {
        "colab": {
          "base_uri": "https://localhost:8080/"
        },
        "id": "IcfhNQA4hvzD",
        "outputId": "d3b46565-2527-4c77-8abf-99c26cac1ab8"
      },
      "outputs": [
        {
          "name": "stdout",
          "output_type": "stream",
          "text": [
            "   country  Average_Cases  Average_Deaths  Average_Recovered\n",
            "0    Ghana  103046.240595      870.016623       22654.221347\n",
            "1  Nigeria  164742.015748     2101.593176       34551.257218\n"
          ]
        }
      ],
      "source": [
        "query = \"select country, avg(cases) as Average_Cases, avg(deaths) as Average_Deaths, avg(recovered) as Average_Recovered from covid_data group by country \"\n",
        "results = pd.read_sql(query, conn)\n",
        "print(results)"
      ]
    },
    {
      "cell_type": "markdown",
      "metadata": {
        "id": "HUAE0XpIh91h"
      },
      "source": [
        "Average cases ,deaths and recoveries reported per country"
      ]
    },
    {
      "cell_type": "code",
      "execution_count": null,
      "metadata": {
        "colab": {
          "base_uri": "https://localhost:8080/"
        },
        "id": "D41_ZGpdiFMZ",
        "outputId": "c485de28-6947-4682-9ce2-07ed281b014d"
      },
      "outputs": [
        {
          "name": "stdout",
          "output_type": "stream",
          "text": [
            "   country  Minimum_Cases  Minimum_Deaths  Minimum_Recovered\n",
            "0    Ghana              0               0                  0\n",
            "1  Nigeria              0               0                  0\n"
          ]
        }
      ],
      "source": [
        "query = \"select country, min(cases) as Minimum_Cases, min(deaths) as Minimum_Deaths, min(recovered) as Minimum_Recovered from covid_data group by country \"\n",
        "results = pd.read_sql(query, conn)\n",
        "print(results)"
      ]
    },
    {
      "cell_type": "markdown",
      "metadata": {
        "id": "y_gzYkkciKzL"
      },
      "source": [
        "First recorded cases,death and recoveries"
      ]
    },
    {
      "cell_type": "code",
      "execution_count": null,
      "metadata": {
        "colab": {
          "base_uri": "https://localhost:8080/"
        },
        "id": "5Ru6q5gWiRJw",
        "outputId": "085d1c21-cdae-45ed-e304-ac3e502110b0"
      },
      "outputs": [
        {
          "name": "stdout",
          "output_type": "stream",
          "text": [
            "   country  Maximum_Cases  Maximum_Deaths  Maximum_Recovered\n",
            "0    Ghana         171229            1462              98633\n",
            "1  Nigeria         266598            3155             165208\n"
          ]
        }
      ],
      "source": [
        "query = \"select country, max(cases) as Maximum_Cases, max(deaths) as Maximum_Deaths, max(recovered) as Maximum_Recovered from covid_data group by country \"\n",
        "results = pd.read_sql(query, conn)\n",
        "print(results)"
      ]
    },
    {
      "cell_type": "markdown",
      "metadata": {
        "id": "ZY0aAU0oiUn_"
      },
      "source": [
        "Peak records for cases ,deaths and recoveries per country\n"
      ]
    },
    {
      "cell_type": "code",
      "execution_count": null,
      "metadata": {
        "colab": {
          "base_uri": "https://localhost:8080/"
        },
        "id": "BgsSMuIbiKO_",
        "outputId": "cdef90e3-4157-4035-b214-175372d3009f"
      },
      "outputs": [
        {
          "name": "stdout",
          "output_type": "stream",
          "text": [
            "   country  Total_Cases  Total_Deaths  Total_Recovered  \\\n",
            "0    Ghana    117781853        994429         25893775   \n",
            "1  Nigeria    188300124       2402121         39492087   \n",
            "\n",
            "              first_case_date              last_case_date  peak_daily_cases  \\\n",
            "0  2020-01-22 00:00:00.000000  2023-03-09 00:00:00.000000            171229   \n",
            "1  2020-01-22 00:00:00.000000  2023-03-09 00:00:00.000000            266598   \n",
            "\n",
            "   avg_daily_cases  \n",
            "0    103046.240595  \n",
            "1    164742.015748  \n"
          ]
        }
      ],
      "source": [
        "query = \"select country, sum(cases) as Total_Cases, sum(deaths) as Total_Deaths, sum(recovered) as Total_Recovered, min(date) as first_case_date ,max(date) as last_case_date, max(cases) as peak_daily_cases, avg(cases) as avg_daily_cases from covid_data group by country \"\n",
        "results = pd.read_sql(query, conn)\n",
        "print(results)"
      ]
    },
    {
      "cell_type": "markdown",
      "metadata": {
        "id": "qSsyrLnAkd68"
      },
      "source": [
        "Summary per country"
      ]
    }
  ],
  "metadata": {
    "colab": {
      "provenance": []
    },
    "kernelspec": {
      "display_name": "Python 3",
      "name": "python3"
    },
    "language_info": {
      "name": "python"
    }
  },
  "nbformat": 4,
  "nbformat_minor": 0
}
